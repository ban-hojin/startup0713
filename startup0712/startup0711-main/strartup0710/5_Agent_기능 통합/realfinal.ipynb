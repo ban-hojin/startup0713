{
 "cells": [
  {
   "cell_type": "code",
   "execution_count": 1,
   "metadata": {},
   "outputs": [
    {
     "name": "stdout",
     "output_type": "stream",
     "text": [
      "Requirement already satisfied: PyPDF2 in c:\\users\\j0708\\desktop\\startup0711-main\\.venv\\lib\\site-packages (3.0.1)\n",
      "Requirement already satisfied: langchain in c:\\users\\j0708\\desktop\\startup0711-main\\.venv\\lib\\site-packages (0.2.7)\n",
      "Requirement already satisfied: faiss-cpu in c:\\users\\j0708\\desktop\\startup0711-main\\.venv\\lib\\site-packages (1.8.0.post1)\n",
      "Requirement already satisfied: openai in c:\\users\\j0708\\desktop\\startup0711-main\\.venv\\lib\\site-packages (0.28.0)\n",
      "Requirement already satisfied: sentence-transformers in c:\\users\\j0708\\desktop\\startup0711-main\\.venv\\lib\\site-packages (3.0.1)\n",
      "Requirement already satisfied: PyYAML>=5.3 in c:\\users\\j0708\\desktop\\startup0711-main\\.venv\\lib\\site-packages (from langchain) (6.0.1)\n",
      "Requirement already satisfied: SQLAlchemy<3,>=1.4 in c:\\users\\j0708\\desktop\\startup0711-main\\.venv\\lib\\site-packages (from langchain) (2.0.31)\n",
      "Requirement already satisfied: aiohttp<4.0.0,>=3.8.3 in c:\\users\\j0708\\desktop\\startup0711-main\\.venv\\lib\\site-packages (from langchain) (3.9.5)\n",
      "Requirement already satisfied: langchain-core<0.3.0,>=0.2.12 in c:\\users\\j0708\\desktop\\startup0711-main\\.venv\\lib\\site-packages (from langchain) (0.2.13)\n",
      "Requirement already satisfied: langchain-text-splitters<0.3.0,>=0.2.0 in c:\\users\\j0708\\desktop\\startup0711-main\\.venv\\lib\\site-packages (from langchain) (0.2.2)\n",
      "Requirement already satisfied: langsmith<0.2.0,>=0.1.17 in c:\\users\\j0708\\desktop\\startup0711-main\\.venv\\lib\\site-packages (from langchain) (0.1.85)\n",
      "Requirement already satisfied: numpy<2.0.0,>=1.26.0 in c:\\users\\j0708\\desktop\\startup0711-main\\.venv\\lib\\site-packages (from langchain) (1.26.4)\n",
      "Requirement already satisfied: pydantic<3,>=1 in c:\\users\\j0708\\desktop\\startup0711-main\\.venv\\lib\\site-packages (from langchain) (2.8.2)\n",
      "Requirement already satisfied: requests<3,>=2 in c:\\users\\j0708\\desktop\\startup0711-main\\.venv\\lib\\site-packages (from langchain) (2.32.3)\n",
      "Requirement already satisfied: tenacity!=8.4.0,<9.0.0,>=8.1.0 in c:\\users\\j0708\\desktop\\startup0711-main\\.venv\\lib\\site-packages (from langchain) (8.5.0)\n",
      "Requirement already satisfied: packaging in c:\\users\\j0708\\desktop\\startup0711-main\\.venv\\lib\\site-packages (from faiss-cpu) (24.1)\n",
      "Requirement already satisfied: tqdm in c:\\users\\j0708\\desktop\\startup0711-main\\.venv\\lib\\site-packages (from openai) (4.66.4)\n",
      "Requirement already satisfied: transformers<5.0.0,>=4.34.0 in c:\\users\\j0708\\desktop\\startup0711-main\\.venv\\lib\\site-packages (from sentence-transformers) (4.42.3)\n",
      "Requirement already satisfied: torch>=1.11.0 in c:\\users\\j0708\\desktop\\startup0711-main\\.venv\\lib\\site-packages (from sentence-transformers) (2.3.1)\n",
      "Requirement already satisfied: scikit-learn in c:\\users\\j0708\\desktop\\startup0711-main\\.venv\\lib\\site-packages (from sentence-transformers) (1.5.1)\n",
      "Requirement already satisfied: scipy in c:\\users\\j0708\\desktop\\startup0711-main\\.venv\\lib\\site-packages (from sentence-transformers) (1.14.0)\n",
      "Requirement already satisfied: huggingface-hub>=0.15.1 in c:\\users\\j0708\\desktop\\startup0711-main\\.venv\\lib\\site-packages (from sentence-transformers) (0.23.4)\n",
      "Requirement already satisfied: Pillow in c:\\users\\j0708\\desktop\\startup0711-main\\.venv\\lib\\site-packages (from sentence-transformers) (10.4.0)\n",
      "Requirement already satisfied: aiosignal>=1.1.2 in c:\\users\\j0708\\desktop\\startup0711-main\\.venv\\lib\\site-packages (from aiohttp<4.0.0,>=3.8.3->langchain) (1.3.1)\n",
      "Requirement already satisfied: attrs>=17.3.0 in c:\\users\\j0708\\desktop\\startup0711-main\\.venv\\lib\\site-packages (from aiohttp<4.0.0,>=3.8.3->langchain) (23.2.0)\n",
      "Requirement already satisfied: frozenlist>=1.1.1 in c:\\users\\j0708\\desktop\\startup0711-main\\.venv\\lib\\site-packages (from aiohttp<4.0.0,>=3.8.3->langchain) (1.4.1)\n",
      "Requirement already satisfied: multidict<7.0,>=4.5 in c:\\users\\j0708\\desktop\\startup0711-main\\.venv\\lib\\site-packages (from aiohttp<4.0.0,>=3.8.3->langchain) (6.0.5)\n",
      "Requirement already satisfied: yarl<2.0,>=1.0 in c:\\users\\j0708\\desktop\\startup0711-main\\.venv\\lib\\site-packages (from aiohttp<4.0.0,>=3.8.3->langchain) (1.9.4)\n",
      "Requirement already satisfied: filelock in c:\\users\\j0708\\desktop\\startup0711-main\\.venv\\lib\\site-packages (from huggingface-hub>=0.15.1->sentence-transformers) (3.15.4)\n",
      "Requirement already satisfied: fsspec>=2023.5.0 in c:\\users\\j0708\\desktop\\startup0711-main\\.venv\\lib\\site-packages (from huggingface-hub>=0.15.1->sentence-transformers) (2024.6.1)\n",
      "Requirement already satisfied: typing-extensions>=3.7.4.3 in c:\\users\\j0708\\desktop\\startup0711-main\\.venv\\lib\\site-packages (from huggingface-hub>=0.15.1->sentence-transformers) (4.12.2)\n",
      "Requirement already satisfied: jsonpatch<2.0,>=1.33 in c:\\users\\j0708\\desktop\\startup0711-main\\.venv\\lib\\site-packages (from langchain-core<0.3.0,>=0.2.12->langchain) (1.33)\n",
      "Requirement already satisfied: orjson<4.0.0,>=3.9.14 in c:\\users\\j0708\\desktop\\startup0711-main\\.venv\\lib\\site-packages (from langsmith<0.2.0,>=0.1.17->langchain) (3.10.6)\n",
      "Requirement already satisfied: annotated-types>=0.4.0 in c:\\users\\j0708\\desktop\\startup0711-main\\.venv\\lib\\site-packages (from pydantic<3,>=1->langchain) (0.7.0)\n",
      "Requirement already satisfied: pydantic-core==2.20.1 in c:\\users\\j0708\\desktop\\startup0711-main\\.venv\\lib\\site-packages (from pydantic<3,>=1->langchain) (2.20.1)\n",
      "Requirement already satisfied: charset-normalizer<4,>=2 in c:\\users\\j0708\\desktop\\startup0711-main\\.venv\\lib\\site-packages (from requests<3,>=2->langchain) (3.3.2)\n",
      "Requirement already satisfied: idna<4,>=2.5 in c:\\users\\j0708\\desktop\\startup0711-main\\.venv\\lib\\site-packages (from requests<3,>=2->langchain) (3.7)\n",
      "Requirement already satisfied: urllib3<3,>=1.21.1 in c:\\users\\j0708\\desktop\\startup0711-main\\.venv\\lib\\site-packages (from requests<3,>=2->langchain) (2.2.2)\n",
      "Requirement already satisfied: certifi>=2017.4.17 in c:\\users\\j0708\\desktop\\startup0711-main\\.venv\\lib\\site-packages (from requests<3,>=2->langchain) (2024.7.4)\n",
      "Requirement already satisfied: greenlet!=0.4.17 in c:\\users\\j0708\\desktop\\startup0711-main\\.venv\\lib\\site-packages (from SQLAlchemy<3,>=1.4->langchain) (3.0.3)\n",
      "Requirement already satisfied: sympy in c:\\users\\j0708\\desktop\\startup0711-main\\.venv\\lib\\site-packages (from torch>=1.11.0->sentence-transformers) (1.13.0)\n",
      "Requirement already satisfied: networkx in c:\\users\\j0708\\desktop\\startup0711-main\\.venv\\lib\\site-packages (from torch>=1.11.0->sentence-transformers) (3.3)\n",
      "Requirement already satisfied: jinja2 in c:\\users\\j0708\\desktop\\startup0711-main\\.venv\\lib\\site-packages (from torch>=1.11.0->sentence-transformers) (3.1.4)\n",
      "Requirement already satisfied: mkl<=2021.4.0,>=2021.1.1 in c:\\users\\j0708\\desktop\\startup0711-main\\.venv\\lib\\site-packages (from torch>=1.11.0->sentence-transformers) (2021.4.0)\n",
      "Requirement already satisfied: colorama in c:\\users\\j0708\\desktop\\startup0711-main\\.venv\\lib\\site-packages (from tqdm->openai) (0.4.6)\n",
      "Requirement already satisfied: regex!=2019.12.17 in c:\\users\\j0708\\desktop\\startup0711-main\\.venv\\lib\\site-packages (from transformers<5.0.0,>=4.34.0->sentence-transformers) (2024.5.15)\n",
      "Requirement already satisfied: safetensors>=0.4.1 in c:\\users\\j0708\\desktop\\startup0711-main\\.venv\\lib\\site-packages (from transformers<5.0.0,>=4.34.0->sentence-transformers) (0.4.3)\n",
      "Requirement already satisfied: tokenizers<0.20,>=0.19 in c:\\users\\j0708\\desktop\\startup0711-main\\.venv\\lib\\site-packages (from transformers<5.0.0,>=4.34.0->sentence-transformers) (0.19.1)\n",
      "Requirement already satisfied: joblib>=1.2.0 in c:\\users\\j0708\\desktop\\startup0711-main\\.venv\\lib\\site-packages (from scikit-learn->sentence-transformers) (1.4.2)\n",
      "Requirement already satisfied: threadpoolctl>=3.1.0 in c:\\users\\j0708\\desktop\\startup0711-main\\.venv\\lib\\site-packages (from scikit-learn->sentence-transformers) (3.5.0)\n",
      "Requirement already satisfied: jsonpointer>=1.9 in c:\\users\\j0708\\desktop\\startup0711-main\\.venv\\lib\\site-packages (from jsonpatch<2.0,>=1.33->langchain-core<0.3.0,>=0.2.12->langchain) (3.0.0)\n",
      "Requirement already satisfied: intel-openmp==2021.* in c:\\users\\j0708\\desktop\\startup0711-main\\.venv\\lib\\site-packages (from mkl<=2021.4.0,>=2021.1.1->torch>=1.11.0->sentence-transformers) (2021.4.0)\n",
      "Requirement already satisfied: tbb==2021.* in c:\\users\\j0708\\desktop\\startup0711-main\\.venv\\lib\\site-packages (from mkl<=2021.4.0,>=2021.1.1->torch>=1.11.0->sentence-transformers) (2021.13.0)\n",
      "Requirement already satisfied: MarkupSafe>=2.0 in c:\\users\\j0708\\desktop\\startup0711-main\\.venv\\lib\\site-packages (from jinja2->torch>=1.11.0->sentence-transformers) (2.1.5)\n",
      "Requirement already satisfied: mpmath<1.4,>=1.1.0 in c:\\users\\j0708\\desktop\\startup0711-main\\.venv\\lib\\site-packages (from sympy->torch>=1.11.0->sentence-transformers) (1.3.0)\n"
     ]
    }
   ],
   "source": [
    "!pip install PyPDF2 langchain faiss-cpu openai sentence-transformers"
   ]
  },
  {
   "cell_type": "code",
   "execution_count": 8,
   "metadata": {},
   "outputs": [],
   "source": [
    "import os\n",
    "from PyPDF2 import PdfReader\n",
    "from langchain.embeddings import SentenceTransformerEmbeddings\n",
    "from langchain.vectorstores import FAISS\n",
    "from langchain.chains import ConversationalRetrievalChain, ConversationChain\n",
    "from langchain.memory import ConversationBufferWindowMemory\n",
    "from langchain.chat_models import ChatOpenAI\n",
    "from langchain.text_splitter import RecursiveCharacterTextSplitter\n",
    "import openai\n",
    "\n",
    "# OpenAI API Key 설정\n",
    "OPENAI_API_KEY = 'sk-'\n",
    "openai.api_key = OPENAI_API_KEY\n",
    "os.environ[\"OPENAI_API_KEY\"] = OPENAI_API_KEY"
   ]
  },
  {
   "cell_type": "code",
   "execution_count": 9,
   "metadata": {},
   "outputs": [],
   "source": [
    "# 텍스트 파일에서 텍스트 추출 함수\n",
    "def extract_text_from_txt(file_path):\n",
    "    with open(file_path, 'r', encoding='utf-8') as file:\n",
    "        return file.read()"
   ]
  },
  {
   "cell_type": "code",
   "execution_count": 10,
   "metadata": {},
   "outputs": [],
   "source": [
    "# PDF에서 텍스트 추출 함수\n",
    "def extract_text_from_pdf(file_path):\n",
    "    text = \"\"\n",
    "    pdf_reader = PdfReader(file_path)\n",
    "    for page in pdf_reader.pages:\n",
    "        text += page.extract_text()\n",
    "    return text"
   ]
  },
  {
   "cell_type": "code",
   "execution_count": 11,
   "metadata": {},
   "outputs": [],
   "source": [
    "# 텍스트를 청크 단위로 분할 및 벡터 스토어 생성 함수\n",
    "def process_documents(text, embeddings):\n",
    "    text_splitter = RecursiveCharacterTextSplitter(chunk_size=1000, chunk_overlap=200)\n",
    "    text_chunks = text_splitter.split_text(text)\n",
    "    vectorstore = FAISS.from_texts(text_chunks, embeddings)\n",
    "    return vectorstore"
   ]
  },
  {
   "cell_type": "code",
   "execution_count": 12,
   "metadata": {},
   "outputs": [],
   "source": [
    "# 문서 기반 대화 체인 생성 함수\n",
    "def get_document_conversation_chain(vectorstore):\n",
    "    memory = ConversationBufferWindowMemory(memory_key='chat_history', return_messages=True, window_size=10)\n",
    "    conversation_chain = ConversationalRetrievalChain.from_llm(\n",
    "        llm=ChatOpenAI(temperature=0, model_name='gpt-3.5-turbo'),\n",
    "        retriever=vectorstore.as_retriever(),\n",
    "        memory=memory\n",
    "    )\n",
    "    return conversation_chain"
   ]
  },
  {
   "cell_type": "code",
   "execution_count": 15,
   "metadata": {},
   "outputs": [],
   "source": [
    "def get_general_conversation_chain(system_prompt):\n",
    "    memory = ConversationBufferWindowMemory(memory_key='history', return_messages=True, window_size=10)\n",
    "    llm = ChatOpenAI(temperature=0, model_name='gpt-3.5-turbo')\n",
    "    conversation_chain = ConversationChain(\n",
    "        llm=llm,\n",
    "        memory=memory,\n",
    "        input_key=\"input\",\n",
    "        output_key=\"output\"\n",
    "    )\n",
    "    if system_prompt:\n",
    "        memory.save_context({\"input\": system_prompt}, {\"output\": \"\"})\n",
    "    return conversation_chain\n"
   ]
  },
  {
   "cell_type": "code",
   "execution_count": 16,
   "metadata": {},
   "outputs": [],
   "source": [
    "# 파일 경로 입력\n",
    "file_paths_input = input(\"텍스트 또는 PDF 파일 경로를 쉼표로 구분하여 입력하세요 (없으면 Enter): \")\n",
    "file_paths = file_paths_input.split(',') if file_paths_input else []"
   ]
  },
  {
   "cell_type": "code",
   "execution_count": 18,
   "metadata": {},
   "outputs": [],
   "source": [
    "# 파일 업로드 및 벡터 스토어 처리\n",
    "all_text = \"\"\n",
    "vectorstore = None\n",
    "if file_paths:\n",
    "    for file_path in file_paths:\n",
    "        if file_path.endswith('.txt'):\n",
    "            all_text += extract_text_from_txt(file_path)\n",
    "        elif file_path.endswith('.pdf'):\n",
    "            all_text += extract_text_from_pdf(file_path)\n",
    "\n",
    "    if all_text:\n",
    "        embeddings = SentenceTransformerEmbeddings(model_name='all-MiniLM-L6-v2')\n",
    "        vectorstore = process_documents(all_text, embeddings)"
   ]
  },
  {
   "cell_type": "code",
   "execution_count": 19,
   "metadata": {},
   "outputs": [],
   "source": [
    "# 문서 기반 대화 체인 생성\n",
    "document_chain = None\n",
    "if vectorstore is not None:\n",
    "    document_chain = get_document_conversation_chain(vectorstore)"
   ]
  },
  {
   "cell_type": "code",
   "execution_count": 21,
   "metadata": {},
   "outputs": [],
   "source": [
    "# 일반 대화 체인 생성\n",
    "general_chain = get_general_conversation_chain"
   ]
  },
  {
   "cell_type": "code",
   "execution_count": 22,
   "metadata": {},
   "outputs": [
    {
     "name": "stdout",
     "output_type": "stream",
     "text": [
      "질문을 입력하고 Enter 키를 누르세요. 종료하려면 '종료'를 입력하세요.\n"
     ]
    },
    {
     "name": "stderr",
     "output_type": "stream",
     "text": [
      "c:\\Users\\j0708\\Desktop\\startup0711-main\\.venv\\Lib\\site-packages\\langchain_core\\_api\\deprecation.py:139: LangChainDeprecationWarning: The class `ChatOpenAI` was deprecated in LangChain 0.0.10 and will be removed in 0.3.0. An updated version of the class exists in the langchain-openai package and should be used instead. To use it run `pip install -U langchain-openai` and import as `from langchain_openai import ChatOpenAI`.\n",
      "  warn_deprecated(\n",
      "c:\\Users\\j0708\\Desktop\\startup0711-main\\.venv\\Lib\\site-packages\\langchain_core\\_api\\deprecation.py:139: LangChainDeprecationWarning: The class `ConversationChain` was deprecated in LangChain 0.2.7 and will be removed in 1.0. Use RunnableWithMessageHistory: https://api.python.langchain.com/en/latest/runnables/langchain_core.runnables.history.RunnableWithMessageHistory.html instead.\n",
      "  warn_deprecated(\n"
     ]
    },
    {
     "name": "stdout",
     "output_type": "stream",
     "text": [
      "오류 발생: 2 validation errors for HumanMessage\n",
      "content\n",
      "  str type expected (type=type_error.str)\n",
      "content\n",
      "  value is not a valid list (type=type_error.list)\n",
      "오류 발생: 2 validation errors for HumanMessage\n",
      "content\n",
      "  str type expected (type=type_error.str)\n",
      "content\n",
      "  value is not a valid list (type=type_error.list)\n",
      "오류 발생: 2 validation errors for HumanMessage\n",
      "content\n",
      "  str type expected (type=type_error.str)\n",
      "content\n",
      "  value is not a valid list (type=type_error.list)\n",
      "오류 발생: 2 validation errors for HumanMessage\n",
      "content\n",
      "  str type expected (type=type_error.str)\n",
      "content\n",
      "  value is not a valid list (type=type_error.list)\n",
      "챗봇을 종료합니다. 👋\n"
     ]
    }
   ],
   "source": [
    "# 대화 루프\n",
    "chat_history = []\n",
    "terminated = False\n",
    "\n",
    "print(\"질문을 입력하고 Enter 키를 누르세요. 종료하려면 '종료'를 입력하세요.\")\n",
    "while not terminated:\n",
    "    user_input = input(\"질문: \")\n",
    "    chat_history.append({\"role\": \"user\", \"content\": user_input})\n",
    "\n",
    "    if user_input.lower() == \"종료\":\n",
    "        terminated = True\n",
    "        print(\"챗봇을 종료합니다. 👋\")\n",
    "        break\n",
    "\n",
    "    try:\n",
    "        if document_chain:\n",
    "            result = document_chain({\"question\": user_input})\n",
    "            response = result.get(\"answer\", \"응답을 생성하는 동안 오류가 발생했습니다.\")\n",
    "        else:\n",
    "            result = general_chain({\"input\": user_input})\n",
    "            response = result.get(\"output\", \"응답을 생성하는 동안 오류가 발생했습니다.\")\n",
    "        \n",
    "        chat_history.append({\"role\": \"assistant\", \"content\": response})\n",
    "        print(f\"답변: {response}\")\n",
    "    except Exception as e:\n",
    "        response = f\"오류 발생: {e}\"\n",
    "        chat_history.append({\"role\": \"assistant\", \"content\": response})\n",
    "        print(response)"
   ]
  }
 ],
 "metadata": {
  "kernelspec": {
   "display_name": ".venv",
   "language": "python",
   "name": "python3"
  },
  "language_info": {
   "codemirror_mode": {
    "name": "ipython",
    "version": 3
   },
   "file_extension": ".py",
   "mimetype": "text/x-python",
   "name": "python",
   "nbconvert_exporter": "python",
   "pygments_lexer": "ipython3",
   "version": "3.12.3"
  }
 },
 "nbformat": 4,
 "nbformat_minor": 2
}
